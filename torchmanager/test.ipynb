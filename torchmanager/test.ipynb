{
 "cells": [
  {
   "cell_type": "code",
   "execution_count": 1,
   "metadata": {},
   "outputs": [],
   "source": [
    "import torch\n",
    "from torchvision.models import densenet121\n",
    "from torchinfo import summary\n",
    "\n",
    "\n",
    "class Densenet121(torch.nn.Module):\n",
    "    def __init__(\n",
    "            self,\n",
    "            num_labels\n",
    "    ):\n",
    "        super().__init__()\n",
    "        self.model = densenet121(weights = \"DEFAULT\")\n",
    "        self.model.classifier = torch.nn.Sequential(\n",
    "            torch.nn.Linear(1024, num_labels),\n",
    "            torch.nn.Sigmoid()\n",
    "        )\n",
    "\n",
    "    def forward(self, x):\n",
    "        x = x.repeat(1,3,1,1)\n",
    "        x = self.model(x)\n",
    "        return x\n"
   ]
  },
  {
   "cell_type": "code",
   "execution_count": 2,
   "metadata": {},
   "outputs": [
    {
     "name": "stderr",
     "output_type": "stream",
     "text": [
      "/home/karan/miniconda3/envs/BTP_Proj/lib/python3.11/site-packages/torch/cuda/__init__.py:107: UserWarning: CUDA initialization: CUDA unknown error - this may be due to an incorrectly set up environment, e.g. changing env variable CUDA_VISIBLE_DEVICES after program start. Setting the available devices to be zero. (Triggered internally at /opt/conda/conda-bld/pytorch_1682343970094/work/c10/cuda/CUDAFunctions.cpp:109.)\n",
      "  return torch._C._cuda_getDeviceCount() > 0\n"
     ]
    },
    {
     "data": {
      "text/plain": [
       "==========================================================================================================================================================================\n",
       "Layer (type:depth-idx)                        Input Shape               Output Shape              Param #                   Param %                   Mult-Adds\n",
       "==========================================================================================================================================================================\n",
       "Densenet121                                   [1, 1, 224, 224]          [1, 14]                   --                             --                   --\n",
       "├─DenseNet: 1-1                               [1, 3, 224, 224]          [1, 14]                   --                             --                   --\n",
       "│    └─Sequential: 2-1                        [1, 3, 224, 224]          [1, 1024, 7, 7]           --                             --                   --\n",
       "│    │    └─Conv2d: 3-1                       [1, 3, 224, 224]          [1, 64, 112, 112]         9,408                       0.14%                   118,013,952\n",
       "│    │    └─BatchNorm2d: 3-2                  [1, 64, 112, 112]         [1, 64, 112, 112]         128                         0.00%                   128\n",
       "│    │    └─ReLU: 3-3                         [1, 64, 112, 112]         [1, 64, 112, 112]         --                             --                   --\n",
       "│    │    └─MaxPool2d: 3-4                    [1, 64, 112, 112]         [1, 64, 56, 56]           --                             --                   --\n",
       "│    │    └─_DenseBlock: 3-5                  [1, 64, 56, 56]           [1, 256, 56, 56]          335,040                     4.81%                   1,040,452,800\n",
       "│    │    └─_Transition: 3-6                  [1, 256, 56, 56]          [1, 128, 28, 28]          33,280                      0.48%                   102,760,960\n",
       "│    │    └─_DenseBlock: 3-7                  [1, 128, 28, 28]          [1, 512, 28, 28]          919,680                    13.20%                   712,910,976\n",
       "│    │    └─_Transition: 3-8                  [1, 512, 28, 28]          [1, 256, 14, 14]          132,096                     1.90%                   102,761,472\n",
       "│    │    └─_DenseBlock: 3-9                  [1, 256, 14, 14]          [1, 1024, 14, 14]         2,837,760                  40.72%                   549,162,240\n",
       "│    │    └─_Transition: 3-10                 [1, 1024, 14, 14]         [1, 512, 7, 7]            526,336                     7.55%                   102,762,496\n",
       "│    │    └─_DenseBlock: 3-11                 [1, 512, 7, 7]            [1, 1024, 7, 7]           2,158,080                  30.97%                   104,394,240\n",
       "│    │    └─BatchNorm2d: 3-12                 [1, 1024, 7, 7]           [1, 1024, 7, 7]           2,048                       0.03%                   2,048\n",
       "│    └─Sequential: 2-2                        [1, 1024]                 [1, 14]                   --                             --                   --\n",
       "│    │    └─Linear: 3-13                      [1, 1024]                 [1, 14]                   14,350                      0.21%                   14,350\n",
       "│    │    └─Sigmoid: 3-14                     [1, 14]                   [1, 14]                   --                             --                   --\n",
       "==========================================================================================================================================================================\n",
       "Total params: 6,968,206\n",
       "Trainable params: 6,968,206\n",
       "Non-trainable params: 0\n",
       "Total mult-adds (Units.GIGABYTES): 2.83\n",
       "==========================================================================================================================================================================\n",
       "Input size (MB): 0.20\n",
       "Forward/backward pass size (MB): 180.53\n",
       "Params size (MB): 27.87\n",
       "Estimated Total Size (MB): 208.61\n",
       "=========================================================================================================================================================================="
      ]
     },
     "execution_count": 2,
     "metadata": {},
     "output_type": "execute_result"
    }
   ],
   "source": [
    "model = Densenet121(num_labels = 14)\n",
    "summary(\n",
    "    model,\n",
    "    [1,1,224,224],\n",
    "    col_names=[\n",
    "        \"input_size\",\n",
    "        \"output_size\",\n",
    "        \"num_params\",\n",
    "        \"params_percent\",\n",
    "        # \"kernel_size\",\n",
    "        \"mult_adds\",\n",
    "        # \"trainable\"\n",
    "    ]\n",
    ")\n"
   ]
  },
  {
   "cell_type": "code",
   "execution_count": null,
   "metadata": {},
   "outputs": [],
   "source": []
  }
 ],
 "metadata": {
  "kernelspec": {
   "display_name": "BTP_Proj",
   "language": "python",
   "name": "python3"
  },
  "language_info": {
   "codemirror_mode": {
    "name": "ipython",
    "version": 3
   },
   "file_extension": ".py",
   "mimetype": "text/x-python",
   "name": "python",
   "nbconvert_exporter": "python",
   "pygments_lexer": "ipython3",
   "version": "3.11.4"
  },
  "orig_nbformat": 4
 },
 "nbformat": 4,
 "nbformat_minor": 2
}
