{
 "cells": [
  {
   "cell_type": "code",
   "execution_count": 1,
   "metadata": {},
   "outputs": [],
   "source": [
    "from src.data.data_pipeline import DataPipeline\n",
    "from src.models.model_factory import ModelFactory\n",
    "from src.training.base_trainer import BaseTrainer\n",
    "\n",
    "import os"
   ]
  },
  {
   "cell_type": "code",
   "execution_count": null,
   "metadata": {},
   "outputs": [],
   "source": [
    "import torch\n",
    "import numpy as np\n",
    "import random"
   ]
  },
  {
   "cell_type": "code",
   "execution_count": null,
   "metadata": {},
   "outputs": [],
   "source": [
    "SEED = 85\n",
    "def seed_everything(seed):\n",
    "    os.environ[\"PYTHONHASHSEED\"] = str(seed)\n",
    "    random.seed(seed)\n",
    "    np.random.seed(seed)\n",
    "    \n",
    "    torch.manual_seed(seed)\n",
    "    torch.cuda.manual_seed(seed)\n",
    "    torch.backends.cudnn.deterministic = True\n",
    "    torch.backends.cudnn.benchmark = False\n",
    "\n",
    "seed_everything(SEED)"
   ]
  },
  {
   "cell_type": "code",
   "execution_count": 2,
   "metadata": {},
   "outputs": [],
   "source": [
    "CONFIG_DIR = \"D:\\\\Work\\\\College\\\\Classroom\\\\torchmanager\\\\configs\"\n",
    "DATA = \"data_no_aug.yaml\"\n",
    "MODEL = \"model_svit3.yaml\"\n",
    "TRAINER = \"training.yaml\""
   ]
  },
  {
   "cell_type": "code",
   "execution_count": 3,
   "metadata": {},
   "outputs": [
    {
     "name": "stdout",
     "output_type": "stream",
     "text": [
      "Files already downloaded and verified\n",
      "Files already downloaded and verified\n"
     ]
    }
   ],
   "source": [
    "data_config_path = os.path.join(CONFIG_DIR, DATA)\n",
    "data_pipeline = DataPipeline(data_config_path)"
   ]
  },
  {
   "cell_type": "code",
   "execution_count": 4,
   "metadata": {},
   "outputs": [],
   "source": [
    "train_dataloader, val_dataloader, test_dataloader = data_pipeline.data_loaders.values()"
   ]
  },
  {
   "cell_type": "code",
   "execution_count": 5,
   "metadata": {},
   "outputs": [],
   "source": [
    "model_config_path = os.path.join(CONFIG_DIR, MODEL)\n",
    "model_factory = ModelFactory(model_config_path)"
   ]
  },
  {
   "cell_type": "code",
   "execution_count": 6,
   "metadata": {},
   "outputs": [],
   "source": [
    "model = model_factory.model"
   ]
  },
  {
   "cell_type": "code",
   "execution_count": 7,
   "metadata": {},
   "outputs": [
    {
     "name": "stdout",
     "output_type": "stream",
     "text": [
      "SqueezeViT_3(\n",
      "  (fire1): FireBlock(\n",
      "    (squeeze_block): Sequential(\n",
      "      (0): FireModule(\n",
      "        (squeeze): ConvBlock(\n",
      "          (conv_bn_act): Sequential(\n",
      "            (0): Conv2d(3, 1, kernel_size=(1, 1), stride=(1, 1), bias=False)\n",
      "            (1): SiLU()\n",
      "          )\n",
      "        )\n",
      "        (expand): ModuleDict(\n",
      "          (1x1): ConvBlock(\n",
      "            (conv_bn_act): Sequential(\n",
      "              (0): Conv2d(1, 16, kernel_size=(1, 1), stride=(1, 1), bias=False)\n",
      "            )\n",
      "          )\n",
      "          (3x3): ConvBlock(\n",
      "            (conv_bn_act): Sequential(\n",
      "              (0): Conv2d(1, 16, kernel_size=(3, 3), stride=(1, 1), padding=(1, 1), bias=False)\n",
      "            )\n",
      "          )\n",
      "        )\n",
      "      )\n",
      "    )\n",
      "  )\n",
      "  (fire2): FireBlock(\n",
      "    (squeeze_block): Sequential(\n",
      "      (0): FireModule(\n",
      "        (squeeze): ConvBlock(\n",
      "          (conv_bn_act): Sequential(\n",
      "            (0): Conv2d(32, 16, kernel_size=(1, 1), stride=(1, 1), bias=False)\n",
      "            (1): SiLU()\n",
      "          )\n",
      "        )\n",
      "        (expand): ModuleDict(\n",
      "          (1x1): ConvBlock(\n",
      "            (conv_bn_act): Sequential(\n",
      "              (0): Conv2d(16, 32, kernel_size=(1, 1), stride=(1, 1), bias=False)\n",
      "            )\n",
      "          )\n",
      "          (3x3): ConvBlock(\n",
      "            (conv_bn_act): Sequential(\n",
      "              (0): Conv2d(16, 32, kernel_size=(3, 3), stride=(1, 1), padding=(1, 1), bias=False)\n",
      "            )\n",
      "          )\n",
      "        )\n",
      "      )\n",
      "      (1): FireModule(\n",
      "        (squeeze): ConvBlock(\n",
      "          (conv_bn_act): Sequential(\n",
      "            (0): Conv2d(64, 32, kernel_size=(1, 1), stride=(1, 1), bias=False)\n",
      "            (1): SiLU()\n",
      "          )\n",
      "        )\n",
      "        (expand): ModuleDict(\n",
      "          (1x1): ConvBlock(\n",
      "            (conv_bn_act): Sequential(\n",
      "              (0): Conv2d(32, 32, kernel_size=(1, 1), stride=(1, 1), bias=False)\n",
      "            )\n",
      "          )\n",
      "          (3x3): ConvBlock(\n",
      "            (conv_bn_act): Sequential(\n",
      "              (0): Conv2d(32, 32, kernel_size=(3, 3), stride=(1, 1), padding=(1, 1), bias=False)\n",
      "            )\n",
      "          )\n",
      "        )\n",
      "      )\n",
      "      (2): FireModule(\n",
      "        (squeeze): ConvBlock(\n",
      "          (conv_bn_act): Sequential(\n",
      "            (0): Conv2d(64, 32, kernel_size=(1, 1), stride=(1, 1), bias=False)\n",
      "            (1): SiLU()\n",
      "          )\n",
      "        )\n",
      "        (expand): ModuleDict(\n",
      "          (1x1): ConvBlock(\n",
      "            (conv_bn_act): Sequential(\n",
      "              (0): Conv2d(32, 64, kernel_size=(1, 1), stride=(1, 1), bias=False)\n",
      "            )\n",
      "          )\n",
      "          (3x3): ConvBlock(\n",
      "            (conv_bn_act): Sequential(\n",
      "              (0): Conv2d(32, 64, kernel_size=(3, 3), stride=(1, 1), padding=(1, 1), bias=False)\n",
      "            )\n",
      "          )\n",
      "        )\n",
      "      )\n",
      "      (3): MaxPool2d(kernel_size=3, stride=2, padding=1, dilation=1, ceil_mode=False)\n",
      "    )\n",
      "  )\n",
      "  (svit1): SqueezeViTBlock(\n",
      "    (fire1): FireBlock(\n",
      "      (squeeze_block): Sequential(\n",
      "        (0): FireModule(\n",
      "          (squeeze): ConvBlock(\n",
      "            (conv_bn_act): Sequential(\n",
      "              (0): Conv2d(128, 64, kernel_size=(1, 1), stride=(1, 1), bias=False)\n",
      "              (1): SiLU()\n",
      "            )\n",
      "          )\n",
      "          (expand): ModuleDict(\n",
      "            (1x1): ConvBlock(\n",
      "              (conv_bn_act): Sequential(\n",
      "                (0): Conv2d(64, 64, kernel_size=(1, 1), stride=(1, 1), bias=False)\n",
      "              )\n",
      "            )\n",
      "            (3x3): ConvBlock(\n",
      "              (conv_bn_act): Sequential(\n",
      "                (0): Conv2d(64, 64, kernel_size=(3, 3), stride=(1, 1), padding=(1, 1), bias=False)\n",
      "              )\n",
      "            )\n",
      "          )\n",
      "        )\n",
      "        (1): FireModule(\n",
      "          (squeeze): ConvBlock(\n",
      "            (conv_bn_act): Sequential(\n",
      "              (0): Conv2d(128, 64, kernel_size=(1, 1), stride=(1, 1), bias=False)\n",
      "              (1): SiLU()\n",
      "            )\n",
      "          )\n",
      "          (expand): ModuleDict(\n",
      "            (1x1): ConvBlock(\n",
      "              (conv_bn_act): Sequential(\n",
      "                (0): Conv2d(64, 32, kernel_size=(1, 1), stride=(1, 1), bias=False)\n",
      "              )\n",
      "            )\n",
      "            (3x3): ConvBlock(\n",
      "              (conv_bn_act): Sequential(\n",
      "                (0): Conv2d(64, 32, kernel_size=(3, 3), stride=(1, 1), padding=(1, 1), bias=False)\n",
      "              )\n",
      "            )\n",
      "          )\n",
      "        )\n",
      "      )\n",
      "    )\n",
      "    (encoder): Sequential(\n",
      "      (0): EncoderBlock(\n",
      "        (layer_norm_1): LayerNorm((64,), eps=1e-06, elementwise_affine=True)\n",
      "        (mhsa): MultiheadAttention(\n",
      "          (out_proj): NonDynamicallyQuantizableLinear(in_features=64, out_features=64, bias=True)\n",
      "        )\n",
      "        (attn_dropout): Dropout(p=0.1, inplace=False)\n",
      "        (layer_norm_2): LayerNorm((64,), eps=1e-06, elementwise_affine=True)\n",
      "        (mlp): MLP(\n",
      "          (mlp): Sequential(\n",
      "            (0): Linear(in_features=64, out_features=128, bias=True)\n",
      "            (1): GELU(approximate='none')\n",
      "            (2): Dropout(p=0.1, inplace=False)\n",
      "            (3): Linear(in_features=128, out_features=64, bias=True)\n",
      "            (4): Dropout(p=0.1, inplace=False)\n",
      "          )\n",
      "        )\n",
      "      )\n",
      "      (1): EncoderBlock(\n",
      "        (layer_norm_1): LayerNorm((64,), eps=1e-06, elementwise_affine=True)\n",
      "        (mhsa): MultiheadAttention(\n",
      "          (out_proj): NonDynamicallyQuantizableLinear(in_features=64, out_features=64, bias=True)\n",
      "        )\n",
      "        (attn_dropout): Dropout(p=0.1, inplace=False)\n",
      "        (layer_norm_2): LayerNorm((64,), eps=1e-06, elementwise_affine=True)\n",
      "        (mlp): MLP(\n",
      "          (mlp): Sequential(\n",
      "            (0): Linear(in_features=64, out_features=128, bias=True)\n",
      "            (1): GELU(approximate='none')\n",
      "            (2): Dropout(p=0.1, inplace=False)\n",
      "            (3): Linear(in_features=128, out_features=64, bias=True)\n",
      "            (4): Dropout(p=0.1, inplace=False)\n",
      "          )\n",
      "        )\n",
      "      )\n",
      "      (2): EncoderBlock(\n",
      "        (layer_norm_1): LayerNorm((64,), eps=1e-06, elementwise_affine=True)\n",
      "        (mhsa): MultiheadAttention(\n",
      "          (out_proj): NonDynamicallyQuantizableLinear(in_features=64, out_features=64, bias=True)\n",
      "        )\n",
      "        (attn_dropout): Dropout(p=0.1, inplace=False)\n",
      "        (layer_norm_2): LayerNorm((64,), eps=1e-06, elementwise_affine=True)\n",
      "        (mlp): MLP(\n",
      "          (mlp): Sequential(\n",
      "            (0): Linear(in_features=64, out_features=128, bias=True)\n",
      "            (1): GELU(approximate='none')\n",
      "            (2): Dropout(p=0.1, inplace=False)\n",
      "            (3): Linear(in_features=128, out_features=64, bias=True)\n",
      "            (4): Dropout(p=0.1, inplace=False)\n",
      "          )\n",
      "        )\n",
      "      )\n",
      "      (3): EncoderBlock(\n",
      "        (layer_norm_1): LayerNorm((64,), eps=1e-06, elementwise_affine=True)\n",
      "        (mhsa): MultiheadAttention(\n",
      "          (out_proj): NonDynamicallyQuantizableLinear(in_features=64, out_features=64, bias=True)\n",
      "        )\n",
      "        (attn_dropout): Dropout(p=0.1, inplace=False)\n",
      "        (layer_norm_2): LayerNorm((64,), eps=1e-06, elementwise_affine=True)\n",
      "        (mlp): MLP(\n",
      "          (mlp): Sequential(\n",
      "            (0): Linear(in_features=64, out_features=128, bias=True)\n",
      "            (1): GELU(approximate='none')\n",
      "            (2): Dropout(p=0.1, inplace=False)\n",
      "            (3): Linear(in_features=128, out_features=64, bias=True)\n",
      "            (4): Dropout(p=0.1, inplace=False)\n",
      "          )\n",
      "        )\n",
      "      )\n",
      "      (4): LayerNorm((64,), eps=1e-05, elementwise_affine=True)\n",
      "    )\n",
      "    (conv3): ConvBlock(\n",
      "      (conv_bn_act): Sequential(\n",
      "        (0): Conv2d(64, 128, kernel_size=(1, 1), stride=(1, 1), bias=False)\n",
      "        (1): BatchNorm2d(128, eps=1e-05, momentum=0.1, affine=True, track_running_stats=True)\n",
      "        (2): SiLU()\n",
      "      )\n",
      "    )\n",
      "    (fire2): FireBlock(\n",
      "      (squeeze_block): Sequential(\n",
      "        (0): FireModule(\n",
      "          (squeeze): ConvBlock(\n",
      "            (conv_bn_act): Sequential(\n",
      "              (0): Conv2d(256, 128, kernel_size=(1, 1), stride=(1, 1), bias=False)\n",
      "              (1): SiLU()\n",
      "            )\n",
      "          )\n",
      "          (expand): ModuleDict(\n",
      "            (1x1): ConvBlock(\n",
      "              (conv_bn_act): Sequential(\n",
      "                (0): Conv2d(128, 64, kernel_size=(1, 1), stride=(1, 1), bias=False)\n",
      "              )\n",
      "            )\n",
      "            (3x3): ConvBlock(\n",
      "              (conv_bn_act): Sequential(\n",
      "                (0): Conv2d(128, 64, kernel_size=(3, 3), stride=(1, 1), padding=(1, 1), bias=False)\n",
      "              )\n",
      "            )\n",
      "          )\n",
      "        )\n",
      "      )\n",
      "    )\n",
      "  )\n",
      "  (fire3): FireBlock(\n",
      "    (squeeze_block): Sequential(\n",
      "      (0): FireModule(\n",
      "        (squeeze): ConvBlock(\n",
      "          (conv_bn_act): Sequential(\n",
      "            (0): Conv2d(128, 64, kernel_size=(1, 1), stride=(1, 1), bias=False)\n",
      "            (1): SiLU()\n",
      "          )\n",
      "        )\n",
      "        (expand): ModuleDict(\n",
      "          (1x1): ConvBlock(\n",
      "            (conv_bn_act): Sequential(\n",
      "              (0): Conv2d(64, 128, kernel_size=(1, 1), stride=(1, 1), bias=False)\n",
      "            )\n",
      "          )\n",
      "          (3x3): ConvBlock(\n",
      "            (conv_bn_act): Sequential(\n",
      "              (0): Conv2d(64, 128, kernel_size=(3, 3), stride=(1, 1), padding=(1, 1), bias=False)\n",
      "            )\n",
      "          )\n",
      "        )\n",
      "      )\n",
      "      (1): MaxPool2d(kernel_size=3, stride=2, padding=1, dilation=1, ceil_mode=False)\n",
      "    )\n",
      "  )\n",
      "  (conv): ConvBlock(\n",
      "    (conv_bn_act): Sequential(\n",
      "      (0): Conv2d(256, 256, kernel_size=(1, 1), stride=(1, 1), bias=False)\n",
      "      (1): BatchNorm2d(256, eps=1e-05, momentum=0.1, affine=True, track_running_stats=True)\n",
      "      (2): SiLU()\n",
      "    )\n",
      "  )\n",
      "  (classifier): Sequential(\n",
      "    (0): AdaptiveAvgPool2d(output_size=(1, 1))\n",
      "    (1): Flatten(start_dim=1, end_dim=-1)\n",
      "    (2): Linear(in_features=256, out_features=10, bias=True)\n",
      "  )\n",
      ")\n"
     ]
    }
   ],
   "source": [
    "print(model)"
   ]
  },
  {
   "cell_type": "code",
   "execution_count": 8,
   "metadata": {},
   "outputs": [
    {
     "name": "stdout",
     "output_type": "stream",
     "text": [
      "534,317 total parameters.\n"
     ]
    }
   ],
   "source": [
    "# print total parameters\n",
    "total_params = sum(p.numel() for p in model.parameters())\n",
    "print(f'{total_params:,} total parameters.')"
   ]
  },
  {
   "cell_type": "code",
   "execution_count": 9,
   "metadata": {},
   "outputs": [],
   "source": [
    "class ClassifierTrainer(BaseTrainer):\n",
    "    def __init__(self, train_config_path):\n",
    "        super().__init__(train_config_path)\n",
    "    \n",
    "    def train_step(self, batch_data, batch_idx):\n",
    "        # init_batch\n",
    "        inputs, targets = batch_data\n",
    "\n",
    "        # process_batch\n",
    "        outputs = self.model(inputs)\n",
    "\n",
    "        # compute_loss\n",
    "        loss_value = self.loss(outputs, targets)\n",
    "\n",
    "        # compute_metrics\n",
    "        metrics_values = {}\n",
    "        for metric_name, metric in self.metrics.items():\n",
    "            metric_value = metric(outputs, targets)\n",
    "            metrics_values[metric_name] = metric_value\n",
    "        \n",
    "        # end_batch\n",
    "        results = {\n",
    "            'loss' : loss_value,\n",
    "            **metrics_values\n",
    "        }\n",
    "\n",
    "        return results\n",
    "    \n",
    "    def val_step(self, batch_data, batch_idx):\n",
    "        return self.train_step(batch_data, batch_idx)\n",
    "    \n",
    "    def test_step(self, batch_data, batch_idx):\n",
    "        return self.train_step(batch_data, batch_idx)"
   ]
  },
  {
   "cell_type": "code",
   "execution_count": 10,
   "metadata": {},
   "outputs": [],
   "source": [
    "training_config_path = os.path.join(CONFIG_DIR, TRAINER)\n",
    "training_manager = ClassifierTrainer(training_config_path)"
   ]
  },
  {
   "cell_type": "code",
   "execution_count": 11,
   "metadata": {},
   "outputs": [
    {
     "name": "stderr",
     "output_type": "stream",
     "text": [
      "\u001b[34m\u001b[1mwandb\u001b[0m: Currently logged in as: \u001b[33msoni-10\u001b[0m (\u001b[33mbatatar\u001b[0m). Use \u001b[1m`wandb login --relogin`\u001b[0m to force relogin\n"
     ]
    },
    {
     "data": {
      "text/html": [
       "Tracking run with wandb version 0.15.8"
      ],
      "text/plain": [
       "<IPython.core.display.HTML object>"
      ]
     },
     "metadata": {},
     "output_type": "display_data"
    },
    {
     "data": {
      "text/html": [
       "Run data is saved locally in <code>d:\\Work\\College\\Classroom\\torchmanager\\wandb\\run-20230816_203059-f901bpwb</code>"
      ],
      "text/plain": [
       "<IPython.core.display.HTML object>"
      ]
     },
     "metadata": {},
     "output_type": "display_data"
    },
    {
     "data": {
      "text/html": [
       "Syncing run <strong><a href='https://wandb.ai/batatar/pytorch-template/runs/f901bpwb' target=\"_blank\">SqueezeViT_3_no_aug</a></strong> to <a href='https://wandb.ai/batatar/pytorch-template' target=\"_blank\">Weights & Biases</a> (<a href='https://wandb.me/run' target=\"_blank\">docs</a>)<br/>"
      ],
      "text/plain": [
       "<IPython.core.display.HTML object>"
      ]
     },
     "metadata": {},
     "output_type": "display_data"
    },
    {
     "data": {
      "text/html": [
       " View project at <a href='https://wandb.ai/batatar/pytorch-template' target=\"_blank\">https://wandb.ai/batatar/pytorch-template</a>"
      ],
      "text/plain": [
       "<IPython.core.display.HTML object>"
      ]
     },
     "metadata": {},
     "output_type": "display_data"
    },
    {
     "data": {
      "text/html": [
       " View run at <a href='https://wandb.ai/batatar/pytorch-template/runs/f901bpwb' target=\"_blank\">https://wandb.ai/batatar/pytorch-template/runs/f901bpwb</a>"
      ],
      "text/plain": [
       "<IPython.core.display.HTML object>"
      ]
     },
     "metadata": {},
     "output_type": "display_data"
    },
    {
     "ename": "KeyboardInterrupt",
     "evalue": "",
     "output_type": "error",
     "traceback": [
      "\u001b[1;31m---------------------------------------------------------------------------\u001b[0m",
      "\u001b[1;31mKeyboardInterrupt\u001b[0m                         Traceback (most recent call last)",
      "Cell \u001b[1;32mIn[11], line 7\u001b[0m\n\u001b[0;32m      1\u001b[0m \u001b[39m# make dataloaders dict with only train and val\u001b[39;00m\n\u001b[0;32m      2\u001b[0m train_dataloaders \u001b[39m=\u001b[39m {\n\u001b[0;32m      3\u001b[0m     \u001b[39m'\u001b[39m\u001b[39mtrain\u001b[39m\u001b[39m'\u001b[39m: train_dataloader,\n\u001b[0;32m      4\u001b[0m     \u001b[39m'\u001b[39m\u001b[39mval\u001b[39m\u001b[39m'\u001b[39m: val_dataloader\n\u001b[0;32m      5\u001b[0m }\n\u001b[1;32m----> 7\u001b[0m train_history \u001b[39m=\u001b[39m training_manager\u001b[39m.\u001b[39;49mfit(model, train_dataloaders)\n",
      "File \u001b[1;32md:\\Work\\College\\Classroom\\torchmanager\\src\\training\\base_trainer.py:93\u001b[0m, in \u001b[0;36mBaseTrainer.fit\u001b[1;34m(self, model, dataloaders)\u001b[0m\n\u001b[0;32m     90\u001b[0m \u001b[39mself\u001b[39m\u001b[39m.\u001b[39m_reset_metrics()\n\u001b[0;32m     92\u001b[0m \u001b[39mfor\u001b[39;00m batch_idx, batch_data \u001b[39min\u001b[39;00m \u001b[39menumerate\u001b[39m(dataloader):\n\u001b[1;32m---> 93\u001b[0m     batch_data \u001b[39m=\u001b[39m \u001b[39mself\u001b[39;49m\u001b[39m.\u001b[39;49m_move_to_device(batch_data, \u001b[39mself\u001b[39;49m\u001b[39m.\u001b[39;49mdevice)\n\u001b[0;32m     95\u001b[0m     \u001b[39mif\u001b[39;00m phase \u001b[39m==\u001b[39m \u001b[39m'\u001b[39m\u001b[39mtrain\u001b[39m\u001b[39m'\u001b[39m:\n\u001b[0;32m     96\u001b[0m         \u001b[39mself\u001b[39m\u001b[39m.\u001b[39moptimizer\u001b[39m.\u001b[39mzero_grad()\n",
      "File \u001b[1;32md:\\Work\\College\\Classroom\\torchmanager\\src\\training\\base_trainer.py:240\u001b[0m, in \u001b[0;36mBaseTrainer._move_to_device\u001b[1;34m(self, obj, device)\u001b[0m\n\u001b[0;32m    238\u001b[0m     \u001b[39mreturn\u001b[39;00m {key: \u001b[39mself\u001b[39m\u001b[39m.\u001b[39m_move_to_device(value, device) \u001b[39mfor\u001b[39;00m key, value \u001b[39min\u001b[39;00m obj\u001b[39m.\u001b[39mitems()}\n\u001b[0;32m    239\u001b[0m \u001b[39melif\u001b[39;00m \u001b[39misinstance\u001b[39m(obj, \u001b[39mlist\u001b[39m):\n\u001b[1;32m--> 240\u001b[0m     \u001b[39mreturn\u001b[39;00m [\u001b[39mself\u001b[39;49m\u001b[39m.\u001b[39;49m_move_to_device(item, device) \u001b[39mfor\u001b[39;49;00m item \u001b[39min\u001b[39;49;00m obj]\n\u001b[0;32m    241\u001b[0m \u001b[39melif\u001b[39;00m \u001b[39misinstance\u001b[39m(obj, \u001b[39mtuple\u001b[39m):\n\u001b[0;32m    242\u001b[0m     \u001b[39mreturn\u001b[39;00m \u001b[39mtuple\u001b[39m([\u001b[39mself\u001b[39m\u001b[39m.\u001b[39m_move_to_device(item, device) \u001b[39mfor\u001b[39;00m item \u001b[39min\u001b[39;00m obj])\n",
      "File \u001b[1;32md:\\Work\\College\\Classroom\\torchmanager\\src\\training\\base_trainer.py:240\u001b[0m, in \u001b[0;36m<listcomp>\u001b[1;34m(.0)\u001b[0m\n\u001b[0;32m    238\u001b[0m     \u001b[39mreturn\u001b[39;00m {key: \u001b[39mself\u001b[39m\u001b[39m.\u001b[39m_move_to_device(value, device) \u001b[39mfor\u001b[39;00m key, value \u001b[39min\u001b[39;00m obj\u001b[39m.\u001b[39mitems()}\n\u001b[0;32m    239\u001b[0m \u001b[39melif\u001b[39;00m \u001b[39misinstance\u001b[39m(obj, \u001b[39mlist\u001b[39m):\n\u001b[1;32m--> 240\u001b[0m     \u001b[39mreturn\u001b[39;00m [\u001b[39mself\u001b[39;49m\u001b[39m.\u001b[39;49m_move_to_device(item, device) \u001b[39mfor\u001b[39;00m item \u001b[39min\u001b[39;00m obj]\n\u001b[0;32m    241\u001b[0m \u001b[39melif\u001b[39;00m \u001b[39misinstance\u001b[39m(obj, \u001b[39mtuple\u001b[39m):\n\u001b[0;32m    242\u001b[0m     \u001b[39mreturn\u001b[39;00m \u001b[39mtuple\u001b[39m([\u001b[39mself\u001b[39m\u001b[39m.\u001b[39m_move_to_device(item, device) \u001b[39mfor\u001b[39;00m item \u001b[39min\u001b[39;00m obj])\n",
      "File \u001b[1;32md:\\Work\\College\\Classroom\\torchmanager\\src\\training\\base_trainer.py:234\u001b[0m, in \u001b[0;36mBaseTrainer._move_to_device\u001b[1;34m(self, obj, device)\u001b[0m\n\u001b[0;32m    232\u001b[0m \u001b[39mdef\u001b[39;00m \u001b[39m_move_to_device\u001b[39m(\u001b[39mself\u001b[39m, obj, device):\n\u001b[0;32m    233\u001b[0m     \u001b[39mif\u001b[39;00m \u001b[39misinstance\u001b[39m(obj, torch\u001b[39m.\u001b[39mTensor):\n\u001b[1;32m--> 234\u001b[0m         \u001b[39mreturn\u001b[39;00m obj\u001b[39m.\u001b[39;49mto(device)\n\u001b[0;32m    235\u001b[0m     \u001b[39melif\u001b[39;00m \u001b[39misinstance\u001b[39m(obj, torch\u001b[39m.\u001b[39mnn\u001b[39m.\u001b[39mModule):\n\u001b[0;32m    236\u001b[0m         \u001b[39mreturn\u001b[39;00m obj\u001b[39m.\u001b[39mto(device)\n",
      "\u001b[1;31mKeyboardInterrupt\u001b[0m: "
     ]
    }
   ],
   "source": [
    "# make dataloaders dict with only train and val\n",
    "train_dataloaders = {\n",
    "    'train': train_dataloader,\n",
    "    'val': val_dataloader\n",
    "}\n",
    "\n",
    "train_history = training_manager.fit(model, train_dataloaders)"
   ]
  },
  {
   "cell_type": "code",
   "execution_count": null,
   "metadata": {},
   "outputs": [],
   "source": [
    "training_manager.test(model, test_dataloader)"
   ]
  }
 ],
 "metadata": {
  "kernelspec": {
   "display_name": "torch_manager_env",
   "language": "python",
   "name": "python3"
  },
  "language_info": {
   "codemirror_mode": {
    "name": "ipython",
    "version": 3
   },
   "file_extension": ".py",
   "mimetype": "text/x-python",
   "name": "python",
   "nbconvert_exporter": "python",
   "pygments_lexer": "ipython3",
   "version": "3.11.4"
  },
  "orig_nbformat": 4
 },
 "nbformat": 4,
 "nbformat_minor": 2
}
