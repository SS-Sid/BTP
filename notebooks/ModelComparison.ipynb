{
 "cells": [
  {
   "cell_type": "code",
   "execution_count": null,
   "metadata": {},
   "outputs": [],
   "source": [
    "models_sizes = {\n",
    "        \"sqvit_3\":,\n",
    "        \"Densenet\":,\n",
    "        \"Mobilenet\":,\n",
    "        \"Resnet\":,\n",
    "        \"Shufflenet\":,\n",
    "        \"MobileVit\":\n",
    "}"
   ]
  }
 ],
 "metadata": {
  "language_info": {
   "name": "python"
  }
 },
 "nbformat": 4,
 "nbformat_minor": 2
}
