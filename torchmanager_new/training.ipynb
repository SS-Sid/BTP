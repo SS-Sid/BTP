{
 "cells": [
  {
   "cell_type": "code",
   "execution_count": 1,
   "metadata": {},
   "outputs": [],
   "source": [
    "from src.data.data_pipeline import DataPipeline\n",
    "from src.models.model_factory import ModelFactory\n",
    "from src.training.base_trainer import BaseTrainer\n",
    "\n",
    "import os"
   ]
  },
  {
   "cell_type": "code",
   "execution_count": 2,
   "metadata": {},
   "outputs": [],
   "source": [
    "import torch\n",
    "import numpy as np\n",
    "import random"
   ]
  },
  {
   "cell_type": "code",
   "execution_count": 3,
   "metadata": {},
   "outputs": [],
   "source": [
    "SEED = 85\n",
    "def seed_everything(seed):\n",
    "    os.environ[\"PYTHONHASHSEED\"] = str(seed)\n",
    "    random.seed(seed)\n",
    "    np.random.seed(seed)\n",
    "    \n",
    "    torch.manual_seed(seed)\n",
    "    torch.cuda.manual_seed(seed)\n",
    "    torch.backends.cudnn.deterministic = True\n",
    "    torch.backends.cudnn.benchmark = False\n",
    "\n",
    "seed_everything(SEED)"
   ]
  },
  {
   "cell_type": "code",
   "execution_count": 4,
   "metadata": {},
   "outputs": [],
   "source": [
    "CONFIG_DIR = \"/home/karan/Documents/GitHub/BTP/torchmanager/configs\"\n",
    "DATA = \"data_no_aug.yaml\"\n",
    "MODEL = \"model_svit3.yaml\"\n",
    "TRAINER = \"training.yaml\""
   ]
  },
  {
   "cell_type": "code",
   "execution_count": 5,
   "metadata": {},
   "outputs": [
    {
     "name": "stdout",
     "output_type": "stream",
     "text": [
      "Files already downloaded and verified\n",
      "Files already downloaded and verified\n"
     ]
    }
   ],
   "source": [
    "data_config_path = os.path.join(CONFIG_DIR, DATA)\n",
    "data_pipeline = DataPipeline(data_config_path)"
   ]
  },
  {
   "cell_type": "code",
   "execution_count": 6,
   "metadata": {},
   "outputs": [],
   "source": [
    "train_dataloader, val_dataloader, test_dataloader = data_pipeline.data_loaders.values()"
   ]
  },
  {
   "cell_type": "code",
   "execution_count": 7,
   "metadata": {},
   "outputs": [],
   "source": [
    "model_config_path = os.path.join(CONFIG_DIR, MODEL)\n",
    "model_factory = ModelFactory(model_config_path)"
   ]
  },
  {
   "cell_type": "code",
   "execution_count": 8,
   "metadata": {},
   "outputs": [],
   "source": [
    "model = model_factory.model"
   ]
  },
  {
   "cell_type": "code",
   "execution_count": 9,
   "metadata": {},
   "outputs": [
    {
     "name": "stdout",
     "output_type": "stream",
     "text": [
      "SqueezeViT_3(\n",
      "  (fire1): FireBlock(\n",
      "    (squeeze_block): Sequential(\n",
      "      (0): FireModule(\n",
      "        (squeeze): ConvBlock(\n",
      "          (conv_bn_act): Sequential(\n",
      "            (0): Conv2d(3, 1, kernel_size=(1, 1), stride=(1, 1), bias=False)\n",
      "            (1): SiLU()\n",
      "          )\n",
      "        )\n",
      "        (expand): ModuleDict(\n",
      "          (1x1): ConvBlock(\n",
      "            (conv_bn_act): Sequential(\n",
      "              (0): Conv2d(1, 16, kernel_size=(1, 1), stride=(1, 1), bias=False)\n",
      "            )\n",
      "          )\n",
      "          (3x3): ConvBlock(\n",
      "            (conv_bn_act): Sequential(\n",
      "              (0): Conv2d(1, 16, kernel_size=(3, 3), stride=(1, 1), padding=(1, 1), bias=False)\n",
      "            )\n",
      "          )\n",
      "        )\n",
      "      )\n",
      "    )\n",
      "  )\n",
      "  (fire2): FireBlock(\n",
      "    (squeeze_block): Sequential(\n",
      "      (0): FireModule(\n",
      "        (squeeze): ConvBlock(\n",
      "          (conv_bn_act): Sequential(\n",
      "            (0): Conv2d(32, 16, kernel_size=(1, 1), stride=(1, 1), bias=False)\n",
      "            (1): SiLU()\n",
      "          )\n",
      "        )\n",
      "        (expand): ModuleDict(\n",
      "          (1x1): ConvBlock(\n",
      "            (conv_bn_act): Sequential(\n",
      "              (0): Conv2d(16, 32, kernel_size=(1, 1), stride=(1, 1), bias=False)\n",
      "            )\n",
      "          )\n",
      "          (3x3): ConvBlock(\n",
      "            (conv_bn_act): Sequential(\n",
      "              (0): Conv2d(16, 32, kernel_size=(3, 3), stride=(1, 1), padding=(1, 1), bias=False)\n",
      "            )\n",
      "          )\n",
      "        )\n",
      "      )\n",
      "      (1): FireModule(\n",
      "        (squeeze): ConvBlock(\n",
      "          (conv_bn_act): Sequential(\n",
      "            (0): Conv2d(64, 32, kernel_size=(1, 1), stride=(1, 1), bias=False)\n",
      "            (1): SiLU()\n",
      "          )\n",
      "        )\n",
      "        (expand): ModuleDict(\n",
      "          (1x1): ConvBlock(\n",
      "            (conv_bn_act): Sequential(\n",
      "              (0): Conv2d(32, 32, kernel_size=(1, 1), stride=(1, 1), bias=False)\n",
      "            )\n",
      "          )\n",
      "          (3x3): ConvBlock(\n",
      "            (conv_bn_act): Sequential(\n",
      "              (0): Conv2d(32, 32, kernel_size=(3, 3), stride=(1, 1), padding=(1, 1), bias=False)\n",
      "            )\n",
      "          )\n",
      "        )\n",
      "      )\n",
      "      (2): FireModule(\n",
      "        (squeeze): ConvBlock(\n",
      "          (conv_bn_act): Sequential(\n",
      "            (0): Conv2d(64, 32, kernel_size=(1, 1), stride=(1, 1), bias=False)\n",
      "            (1): SiLU()\n",
      "          )\n",
      "        )\n",
      "        (expand): ModuleDict(\n",
      "          (1x1): ConvBlock(\n",
      "            (conv_bn_act): Sequential(\n",
      "              (0): Conv2d(32, 64, kernel_size=(1, 1), stride=(1, 1), bias=False)\n",
      "            )\n",
      "          )\n",
      "          (3x3): ConvBlock(\n",
      "            (conv_bn_act): Sequential(\n",
      "              (0): Conv2d(32, 64, kernel_size=(3, 3), stride=(1, 1), padding=(1, 1), bias=False)\n",
      "            )\n",
      "          )\n",
      "        )\n",
      "      )\n",
      "      (3): MaxPool2d(kernel_size=3, stride=2, padding=1, dilation=1, ceil_mode=False)\n",
      "    )\n",
      "  )\n",
      "  (svit1): SqueezeViTBlock(\n",
      "    (fire1): FireBlock(\n",
      "      (squeeze_block): Sequential(\n",
      "        (0): FireModule(\n",
      "          (squeeze): ConvBlock(\n",
      "            (conv_bn_act): Sequential(\n",
      "              (0): Conv2d(128, 64, kernel_size=(1, 1), stride=(1, 1), bias=False)\n",
      "              (1): SiLU()\n",
      "            )\n",
      "          )\n",
      "          (expand): ModuleDict(\n",
      "            (1x1): ConvBlock(\n",
      "              (conv_bn_act): Sequential(\n",
      "                (0): Conv2d(64, 64, kernel_size=(1, 1), stride=(1, 1), bias=False)\n",
      "              )\n",
      "            )\n",
      "            (3x3): ConvBlock(\n",
      "              (conv_bn_act): Sequential(\n",
      "                (0): Conv2d(64, 64, kernel_size=(3, 3), stride=(1, 1), padding=(1, 1), bias=False)\n",
      "              )\n",
      "            )\n",
      "          )\n",
      "        )\n",
      "        (1): FireModule(\n",
      "          (squeeze): ConvBlock(\n",
      "            (conv_bn_act): Sequential(\n",
      "              (0): Conv2d(128, 64, kernel_size=(1, 1), stride=(1, 1), bias=False)\n",
      "              (1): SiLU()\n",
      "            )\n",
      "          )\n",
      "          (expand): ModuleDict(\n",
      "            (1x1): ConvBlock(\n",
      "              (conv_bn_act): Sequential(\n",
      "                (0): Conv2d(64, 32, kernel_size=(1, 1), stride=(1, 1), bias=False)\n",
      "              )\n",
      "            )\n",
      "            (3x3): ConvBlock(\n",
      "              (conv_bn_act): Sequential(\n",
      "                (0): Conv2d(64, 32, kernel_size=(3, 3), stride=(1, 1), padding=(1, 1), bias=False)\n",
      "              )\n",
      "            )\n",
      "          )\n",
      "        )\n",
      "      )\n",
      "    )\n",
      "    (encoder): Sequential(\n",
      "      (0): EncoderBlock(\n",
      "        (layer_norm_1): LayerNorm((64,), eps=1e-06, elementwise_affine=True)\n",
      "        (mhsa): MultiheadAttention(\n",
      "          (out_proj): NonDynamicallyQuantizableLinear(in_features=64, out_features=64, bias=True)\n",
      "        )\n",
      "        (attn_dropout): Dropout(p=0.1, inplace=False)\n",
      "        (layer_norm_2): LayerNorm((64,), eps=1e-06, elementwise_affine=True)\n",
      "        (mlp): MLP(\n",
      "          (mlp): Sequential(\n",
      "            (0): Linear(in_features=64, out_features=128, bias=True)\n",
      "            (1): GELU(approximate='none')\n",
      "            (2): Dropout(p=0.1, inplace=False)\n",
      "            (3): Linear(in_features=128, out_features=64, bias=True)\n",
      "            (4): Dropout(p=0.1, inplace=False)\n",
      "          )\n",
      "        )\n",
      "      )\n",
      "      (1): EncoderBlock(\n",
      "        (layer_norm_1): LayerNorm((64,), eps=1e-06, elementwise_affine=True)\n",
      "        (mhsa): MultiheadAttention(\n",
      "          (out_proj): NonDynamicallyQuantizableLinear(in_features=64, out_features=64, bias=True)\n",
      "        )\n",
      "        (attn_dropout): Dropout(p=0.1, inplace=False)\n",
      "        (layer_norm_2): LayerNorm((64,), eps=1e-06, elementwise_affine=True)\n",
      "        (mlp): MLP(\n",
      "          (mlp): Sequential(\n",
      "            (0): Linear(in_features=64, out_features=128, bias=True)\n",
      "            (1): GELU(approximate='none')\n",
      "            (2): Dropout(p=0.1, inplace=False)\n",
      "            (3): Linear(in_features=128, out_features=64, bias=True)\n",
      "            (4): Dropout(p=0.1, inplace=False)\n",
      "          )\n",
      "        )\n",
      "      )\n",
      "      (2): EncoderBlock(\n",
      "        (layer_norm_1): LayerNorm((64,), eps=1e-06, elementwise_affine=True)\n",
      "        (mhsa): MultiheadAttention(\n",
      "          (out_proj): NonDynamicallyQuantizableLinear(in_features=64, out_features=64, bias=True)\n",
      "        )\n",
      "        (attn_dropout): Dropout(p=0.1, inplace=False)\n",
      "        (layer_norm_2): LayerNorm((64,), eps=1e-06, elementwise_affine=True)\n",
      "        (mlp): MLP(\n",
      "          (mlp): Sequential(\n",
      "            (0): Linear(in_features=64, out_features=128, bias=True)\n",
      "            (1): GELU(approximate='none')\n",
      "            (2): Dropout(p=0.1, inplace=False)\n",
      "            (3): Linear(in_features=128, out_features=64, bias=True)\n",
      "            (4): Dropout(p=0.1, inplace=False)\n",
      "          )\n",
      "        )\n",
      "      )\n",
      "      (3): EncoderBlock(\n",
      "        (layer_norm_1): LayerNorm((64,), eps=1e-06, elementwise_affine=True)\n",
      "        (mhsa): MultiheadAttention(\n",
      "          (out_proj): NonDynamicallyQuantizableLinear(in_features=64, out_features=64, bias=True)\n",
      "        )\n",
      "        (attn_dropout): Dropout(p=0.1, inplace=False)\n",
      "        (layer_norm_2): LayerNorm((64,), eps=1e-06, elementwise_affine=True)\n",
      "        (mlp): MLP(\n",
      "          (mlp): Sequential(\n",
      "            (0): Linear(in_features=64, out_features=128, bias=True)\n",
      "            (1): GELU(approximate='none')\n",
      "            (2): Dropout(p=0.1, inplace=False)\n",
      "            (3): Linear(in_features=128, out_features=64, bias=True)\n",
      "            (4): Dropout(p=0.1, inplace=False)\n",
      "          )\n",
      "        )\n",
      "      )\n",
      "      (4): LayerNorm((64,), eps=1e-05, elementwise_affine=True)\n",
      "    )\n",
      "    (conv3): ConvBlock(\n",
      "      (conv_bn_act): Sequential(\n",
      "        (0): Conv2d(64, 128, kernel_size=(1, 1), stride=(1, 1), bias=False)\n",
      "        (1): BatchNorm2d(128, eps=1e-05, momentum=0.1, affine=True, track_running_stats=True)\n",
      "        (2): SiLU()\n",
      "      )\n",
      "    )\n",
      "    (fire2): FireBlock(\n",
      "      (squeeze_block): Sequential(\n",
      "        (0): FireModule(\n",
      "          (squeeze): ConvBlock(\n",
      "            (conv_bn_act): Sequential(\n",
      "              (0): Conv2d(256, 128, kernel_size=(1, 1), stride=(1, 1), bias=False)\n",
      "              (1): SiLU()\n",
      "            )\n",
      "          )\n",
      "          (expand): ModuleDict(\n",
      "            (1x1): ConvBlock(\n",
      "              (conv_bn_act): Sequential(\n",
      "                (0): Conv2d(128, 64, kernel_size=(1, 1), stride=(1, 1), bias=False)\n",
      "              )\n",
      "            )\n",
      "            (3x3): ConvBlock(\n",
      "              (conv_bn_act): Sequential(\n",
      "                (0): Conv2d(128, 64, kernel_size=(3, 3), stride=(1, 1), padding=(1, 1), bias=False)\n",
      "              )\n",
      "            )\n",
      "          )\n",
      "        )\n",
      "      )\n",
      "    )\n",
      "  )\n",
      "  (fire3): FireBlock(\n",
      "    (squeeze_block): Sequential(\n",
      "      (0): FireModule(\n",
      "        (squeeze): ConvBlock(\n",
      "          (conv_bn_act): Sequential(\n",
      "            (0): Conv2d(128, 64, kernel_size=(1, 1), stride=(1, 1), bias=False)\n",
      "            (1): SiLU()\n",
      "          )\n",
      "        )\n",
      "        (expand): ModuleDict(\n",
      "          (1x1): ConvBlock(\n",
      "            (conv_bn_act): Sequential(\n",
      "              (0): Conv2d(64, 128, kernel_size=(1, 1), stride=(1, 1), bias=False)\n",
      "            )\n",
      "          )\n",
      "          (3x3): ConvBlock(\n",
      "            (conv_bn_act): Sequential(\n",
      "              (0): Conv2d(64, 128, kernel_size=(3, 3), stride=(1, 1), padding=(1, 1), bias=False)\n",
      "            )\n",
      "          )\n",
      "        )\n",
      "      )\n",
      "      (1): MaxPool2d(kernel_size=3, stride=2, padding=1, dilation=1, ceil_mode=False)\n",
      "    )\n",
      "  )\n",
      "  (conv): ConvBlock(\n",
      "    (conv_bn_act): Sequential(\n",
      "      (0): Conv2d(256, 256, kernel_size=(1, 1), stride=(1, 1), bias=False)\n",
      "      (1): BatchNorm2d(256, eps=1e-05, momentum=0.1, affine=True, track_running_stats=True)\n",
      "      (2): SiLU()\n",
      "    )\n",
      "  )\n",
      "  (classifier): Sequential(\n",
      "    (0): AdaptiveAvgPool2d(output_size=(1, 1))\n",
      "    (1): Flatten(start_dim=1, end_dim=-1)\n",
      "    (2): Linear(in_features=256, out_features=10, bias=True)\n",
      "    (3): Sigmoid()\n",
      "  )\n",
      ")\n"
     ]
    }
   ],
   "source": [
    "print(model)"
   ]
  },
  {
   "cell_type": "code",
   "execution_count": 10,
   "metadata": {},
   "outputs": [
    {
     "name": "stdout",
     "output_type": "stream",
     "text": [
      "534,317 total parameters.\n"
     ]
    }
   ],
   "source": [
    "# print total parameters\n",
    "total_params = sum(p.numel() for p in model.parameters())\n",
    "print(f'{total_params:,} total parameters.')"
   ]
  },
  {
   "cell_type": "code",
   "execution_count": 11,
   "metadata": {},
   "outputs": [],
   "source": [
    "class ClassifierTrainer(BaseTrainer):\n",
    "    def __init__(self, train_config_path):\n",
    "        super().__init__(train_config_path)\n",
    "    \n",
    "    def train_step(self, batch_data, batch_idx):\n",
    "        # init_batch\n",
    "        inputs, targets = batch_data\n",
    "\n",
    "        # process_batch\n",
    "        outputs = self.model(inputs)\n",
    "\n",
    "        # compute_loss\n",
    "        loss_value = self.loss(outputs, targets)\n",
    "\n",
    "        # compute_metrics\n",
    "        metrics_values = {}\n",
    "        for metric_name, metric in self.metrics.items():\n",
    "            metric_value = metric(outputs, targets)\n",
    "            metrics_values[metric_name] = metric_value\n",
    "        \n",
    "        # end_batch\n",
    "        results = {\n",
    "            'loss' : loss_value,\n",
    "            **metrics_values\n",
    "        }\n",
    "\n",
    "        return results\n",
    "    \n",
    "    def val_step(self, batch_data, batch_idx):\n",
    "        return self.train_step(batch_data, batch_idx)\n",
    "    \n",
    "    def test_step(self, batch_data, batch_idx):\n",
    "        return self.train_step(batch_data, batch_idx)"
   ]
  },
  {
   "cell_type": "code",
   "execution_count": 12,
   "metadata": {},
   "outputs": [],
   "source": [
    "training_config_path = os.path.join(CONFIG_DIR, TRAINER)\n",
    "training_manager = ClassifierTrainer(training_config_path)"
   ]
  },
  {
   "cell_type": "code",
   "execution_count": 13,
   "metadata": {},
   "outputs": [
    {
     "name": "stderr",
     "output_type": "stream",
     "text": [
      "\u001b[34m\u001b[1mwandb\u001b[0m: Currently logged in as: \u001b[33mjain-49\u001b[0m (\u001b[33mdl-codes\u001b[0m). Use \u001b[1m`wandb login --relogin`\u001b[0m to force relogin\n"
     ]
    },
    {
     "data": {
      "text/html": [
       "Tracking run with wandb version 0.15.8"
      ],
      "text/plain": [
       "<IPython.core.display.HTML object>"
      ]
     },
     "metadata": {},
     "output_type": "display_data"
    },
    {
     "data": {
      "text/html": [
       "Run data is saved locally in <code>/home/karan/Documents/GitHub/BTP/torchmanager/wandb/run-20230818_195153-x6o2zqj5</code>"
      ],
      "text/plain": [
       "<IPython.core.display.HTML object>"
      ]
     },
     "metadata": {},
     "output_type": "display_data"
    },
    {
     "data": {
      "text/html": [
       "Syncing run <strong><a href='https://wandb.ai/dl-codes/pytorch-template/runs/x6o2zqj5' target=\"_blank\">SqueezeViT_3_no_aug</a></strong> to <a href='https://wandb.ai/dl-codes/pytorch-template' target=\"_blank\">Weights & Biases</a> (<a href='https://wandb.me/run' target=\"_blank\">docs</a>)<br/>"
      ],
      "text/plain": [
       "<IPython.core.display.HTML object>"
      ]
     },
     "metadata": {},
     "output_type": "display_data"
    },
    {
     "data": {
      "text/html": [
       " View project at <a href='https://wandb.ai/dl-codes/pytorch-template' target=\"_blank\">https://wandb.ai/dl-codes/pytorch-template</a>"
      ],
      "text/plain": [
       "<IPython.core.display.HTML object>"
      ]
     },
     "metadata": {},
     "output_type": "display_data"
    },
    {
     "data": {
      "text/html": [
       " View run at <a href='https://wandb.ai/dl-codes/pytorch-template/runs/x6o2zqj5' target=\"_blank\">https://wandb.ai/dl-codes/pytorch-template/runs/x6o2zqj5</a>"
      ],
      "text/plain": [
       "<IPython.core.display.HTML object>"
      ]
     },
     "metadata": {},
     "output_type": "display_data"
    },
    {
     "data": {
      "text/html": [
       "Waiting for W&B process to finish... <strong style=\"color:green\">(success).</strong>"
      ],
      "text/plain": [
       "<IPython.core.display.HTML object>"
      ]
     },
     "metadata": {},
     "output_type": "display_data"
    },
    {
     "name": "stderr",
     "output_type": "stream",
     "text": [
      "wandb: WARNING Source type is set to 'repo' but some required information is missing from the environment. A job will not be created from this run. See https://docs.wandb.ai/guides/launch/create-job\n"
     ]
    },
    {
     "data": {
      "text/html": [
       "<style>\n",
       "    table.wandb td:nth-child(1) { padding: 0 10px; text-align: left ; width: auto;} td:nth-child(2) {text-align: left ; width: 100%}\n",
       "    .wandb-row { display: flex; flex-direction: row; flex-wrap: wrap; justify-content: flex-start; width: 100% }\n",
       "    .wandb-col { display: flex; flex-direction: column; flex-basis: 100%; flex: 1; padding: 10px; }\n",
       "    </style>\n",
       "<div class=\"wandb-row\"><div class=\"wandb-col\"><h3>Run history:</h3><br/><table class=\"wandb\"><tr><td>train/loss</td><td>█▄▃▂▁</td></tr><tr><td>train/multiLabelAccuracy</td><td>▁▁▁▁▁</td></tr><tr><td>val/loss</td><td>██▂▁▂</td></tr><tr><td>val/multiLabelAccuracy</td><td>▁▁▁▁▁</td></tr></table><br/></div><div class=\"wandb-col\"><h3>Run summary:</h3><br/><table class=\"wandb\"><tr><td>train/loss</td><td>1.77576</td></tr><tr><td>train/multiLabelAccuracy</td><td>0.0</td></tr><tr><td>val/loss</td><td>1.88914</td></tr><tr><td>val/multiLabelAccuracy</td><td>0.0</td></tr></table><br/></div></div>"
      ],
      "text/plain": [
       "<IPython.core.display.HTML object>"
      ]
     },
     "metadata": {},
     "output_type": "display_data"
    },
    {
     "data": {
      "text/html": [
       " View run <strong style=\"color:#cdcd00\">SqueezeViT_3_no_aug</strong> at: <a href='https://wandb.ai/dl-codes/pytorch-template/runs/x6o2zqj5' target=\"_blank\">https://wandb.ai/dl-codes/pytorch-template/runs/x6o2zqj5</a><br/>Synced 5 W&B file(s), 0 media file(s), 0 artifact file(s) and 0 other file(s)"
      ],
      "text/plain": [
       "<IPython.core.display.HTML object>"
      ]
     },
     "metadata": {},
     "output_type": "display_data"
    },
    {
     "data": {
      "text/html": [
       "Find logs at: <code>./wandb/run-20230818_195153-x6o2zqj5/logs</code>"
      ],
      "text/plain": [
       "<IPython.core.display.HTML object>"
      ]
     },
     "metadata": {},
     "output_type": "display_data"
    }
   ],
   "source": [
    "# make dataloaders dict with only train and val\n",
    "train_dataloaders = {\n",
    "    'train': train_dataloader,\n",
    "    'val': val_dataloader\n",
    "}\n",
    "\n",
    "train_history = training_manager.fit(model, train_dataloaders)"
   ]
  },
  {
   "cell_type": "code",
   "execution_count": 14,
   "metadata": {},
   "outputs": [
    {
     "data": {
      "text/plain": [
       "{'test': {'loss': [tensor(1.8957, device='cuda:0')],\n",
       "  'multiLabelAccuracy': [0.0]}}"
      ]
     },
     "execution_count": 14,
     "metadata": {},
     "output_type": "execute_result"
    }
   ],
   "source": [
    "training_manager.test(model, test_dataloader)"
   ]
  }
 ],
 "metadata": {
  "kernelspec": {
   "display_name": "torch_manager_env",
   "language": "python",
   "name": "python3"
  },
  "language_info": {
   "codemirror_mode": {
    "name": "ipython",
    "version": 3
   },
   "file_extension": ".py",
   "mimetype": "text/x-python",
   "name": "python",
   "nbconvert_exporter": "python",
   "pygments_lexer": "ipython3",
   "version": "3.11.4"
  },
  "orig_nbformat": 4
 },
 "nbformat": 4,
 "nbformat_minor": 2
}
